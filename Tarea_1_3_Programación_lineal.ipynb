{
  "cells": [
    {
      "cell_type": "markdown",
      "metadata": {
        "id": "view-in-github",
        "colab_type": "text"
      },
      "source": [
        "<a href=\"https://colab.research.google.com/github/ZeroAthena/SimMat02025/blob/main/Tarea_1_3_Programaci%C3%B3n_lineal.ipynb\" target=\"_parent\"><img src=\"https://colab.research.google.com/assets/colab-badge.svg\" alt=\"Open In Colab\"/></a>"
      ]
    },
    {
      "cell_type": "markdown",
      "metadata": {
        "id": "7Zb0zpnxstB8"
      },
      "source": [
        "# Tarea - Programación lineal"
      ]
    },
    {
      "cell_type": "markdown",
      "metadata": {
        "id": "6O-eC_NGstCA"
      },
      "source": [
        "### Diseño de la Dieta Óptima\n",
        "\n",
        "Se quiere producir comida para gatos de la manera más barata, no obstante se debe también asegurar que se cumplan los datos requeridos de analisis nutricional. Por lo que se quiere variar la cantidad de cada ingrediente para cumplir con los estandares nutricionales. Los requisitos que se tienen es que en $100$ gramos, se deben tener **por lo menos** $8$ gramos de proteína y $6$ gramos de grasa. Así mismo, no se debe tener más de $2$ gramos de fibra y $0.4$ gramos de sal.  \n",
        "\n",
        "Los datos nutricionales se pueden obtener de la siguiente tabla:\n",
        "\n",
        "Ingrediente|Proteína|Grasa|Fibra|Sal\n",
        ":----|----|----|----|----\n",
        "Pollo|  10.0%|08.0%|00.1%|00.2%\n",
        "Carne|  20.0%|10.0%|00.5%|00.5%\n",
        "Cordero|15.0%|11.0%|00.5%|00.7%\n",
        "Arroz|  00.0%|01.0%|10.0%|00.2%\n",
        "Trigo|  04.0%|01.0%|15.0%|00.8%\n",
        "Gel|    00.0%|00.0%|00.0%|00.0%\n",
        "\n",
        "Los costos de cada producto son:\n",
        "\n",
        "Ingrediente|Costo por gramo\n",
        ":----|----\n",
        "Pollo|$\\$$0.013\n",
        "Carne|$\\$$0.008\n",
        "Cordero|$\\$$0.010\n",
        "Arroz|$\\$$0.002\n",
        "Trigo|$\\$$0.005\n",
        "Gel|$\\$$0.001    \n",
        "\n",
        "Lo que se busca optimizar en este caso es la cantidad de productos que se debe utilizar en la comida de gato, minimizando el costo total. Para simplificar la notación use las siguientes variables:\n",
        "\n",
        "+ $x_1:$ Gramos de pollo  \n",
        "+ $x_2:$ Gramos de carne  \n",
        "+ $x_3:$ Gramos de cordero  \n",
        "+ $x_4:$ Gramos de arroz  \n",
        "+ $x_5:$ Gramos de trigo  \n",
        "+ $x_6:$ Gramos de gel\n",
        "\n",
        "La tarea consiste en plantear el problema de programación lineal que permita satisfacer las necesidades alimenticias del gato al tiempo que minimice el costo total y resolverlo con `linprog`."
      ]
    },
    {
      "cell_type": "code",
      "source": [
        "import scipy.optimize as opt\n",
        "import numpy as np\n",
        "import matplotlib.pyplot as plt\n",
        "import sympy as sym"
      ],
      "metadata": {
        "id": "GPA7Kvu22oCH"
      },
      "execution_count": 1,
      "outputs": []
    },
    {
      "cell_type": "code",
      "execution_count": 12,
      "metadata": {
        "colab": {
          "base_uri": "https://localhost:8080/"
        },
        "id": "3FNDAarpstCB",
        "outputId": "ec2ef9b6-d3a0-4c81-8f59-c95a582deb06"
      },
      "outputs": [
        {
          "output_type": "execute_result",
          "data": {
            "text/plain": [
              "        message: Optimization terminated successfully. (HiGHS Status 7: Optimal)\n",
              "        success: True\n",
              "         status: 0\n",
              "            fun: 0.52\n",
              "              x: [ 0.000e+00  6.000e+01  0.000e+00  0.000e+00  0.000e+00\n",
              "                   4.000e+01]\n",
              "            nit: 2\n",
              "          lower:  residual: [ 0.000e+00  6.000e+01  0.000e+00  0.000e+00\n",
              "                              0.000e+00  4.000e+01]\n",
              "                 marginals: [ 6.400e-03  0.000e+00  1.300e-03  3.000e-04\n",
              "                              3.300e-03  0.000e+00]\n",
              "          upper:  residual: [       inf        inf        inf        inf\n",
              "                                    inf        inf]\n",
              "                 marginals: [ 0.000e+00  0.000e+00  0.000e+00  0.000e+00\n",
              "                              0.000e+00  0.000e+00]\n",
              "          eqlin:  residual: [ 0.000e+00]\n",
              "                 marginals: [ 1.000e-03]\n",
              "        ineqlin:  residual: [ 4.000e+00  0.000e+00  1.700e+00  1.000e-01]\n",
              "                 marginals: [-0.000e+00 -7.000e-02 -0.000e+00 -0.000e+00]\n",
              " mip_node_count: 0\n",
              " mip_dual_bound: 0.0\n",
              "        mip_gap: 0.0"
            ]
          },
          "metadata": {},
          "execution_count": 12
        }
      ],
      "source": [
        "#Restricciones:\n",
        "#Costo - x1 + x2 + x3 + x4 + x5 + x6 = 100\n",
        "#Proteína - 0.1x1 + 0.2x2 + 0.15x3 + 0x4 + 0.04x5 +0x6 ≥ 8\n",
        "#Grasa - 0.08x1 + 0.1x2 + 0.11x3 + 0.01x4 + 0.01x5 + 0x6 ≥ 6\n",
        "#Fibra - 0.001x1 + 0.005x2 + 0.005x3 + 0.1x4 + 0.15x5 + 0x6 ≤ 2\n",
        "#Sal - 0.002x1 + 0.005x2 + 0.007x3 + 0.002x4 + 0.008x5 + 0x6 ≤ 0.4\n",
        "\n",
        "# Costos\n",
        "c = np.array([0.013,0.008,0.010,0.002,0.005,0.001])\n",
        "\n",
        "# Restricciones\n",
        "a = np.array([\n",
        "    [-0.1,-0.2,-0.15,0,-0.04,0],      # proteína ≥8  ->  -prot ≤ -8\n",
        "    [-0.08,-0.1,-0.11,-0.01,-0.01,0], # grasa ≥6     ->  -grasa ≤ -6\n",
        "    [0.001,0.005,0.005,0.1,0.15,0],   # fibra ≤2\n",
        "    [0.002,0.005,0.007,0.002,0.008,0]]) # sal ≤0.4\n",
        "\n",
        "b = np.array([-8,-6,2,0.4])\n",
        "\n",
        "# Restricción = 100 g\n",
        "d = np.array([[1,1,1,1,1,1]])\n",
        "e = np.array([100])\n",
        "\n",
        "opt.linprog(c,a,b,d,e)"
      ]
    },
    {
      "cell_type": "markdown",
      "source": [
        "**Resultados:**\n",
        "\n",
        "Para que la mezcla sea barata y además cumpla con el estandar alimenticio establecido, se deben utilizar $60\\;\\mathrm{g}$ de carne y $40\\;\\mathrm{g}$ de gel con un valor total de $\\mathrm{$}0.52$ por cada $100\\;\\mathrm{g}$\n",
        "\n",
        "Además, se observa que esta mezcla tiene $12\\;\\mathrm{g}$ de proteínas, $6\\;\\mathrm{g}$ de grasa, $0.3\\;\\mathrm{g}$ de fibra y $0.3\\;\\mathrm{g}$ de sal."
      ],
      "metadata": {
        "id": "Q79cowAS8KIL"
      }
    },
    {
      "cell_type": "markdown",
      "metadata": {
        "id": "PNBAj-OvstCC"
      },
      "source": [
        "### Problema de distribución de energía eléctrica\n",
        "\n",
        "La Comisión Federal de Electricidad **(CFE)** dispone de tres plantas de generación para satisfacer la demanda diaria eléctrica en tres ciudades, Guadalajara, León y Morelia. Las plantas $1$, $2$ y $3$ pueden satisfacer $80$, $40$ y $60$ millones de KW al día respectivamente. Las necesidades de las ciudades de Guadalajara, León y Morelia son de $70$, $40$ y $70$ millones de Kw al día respectivamente.\n",
        "\n",
        "\n",
        "Los costos asociados al envío de suministro energético por cada millón de Kw entre cada planta y cada ciudad son los registrados en la siguiente tabla.\n",
        "\n",
        "-|Guadalajara|León|Morelia\n",
        ":----|----|----|----\n",
        "Planta 1|5|2|7\n",
        "Planta 2|3|6|6\n",
        "Planta 3|6|1|2\n",
        "\n",
        "Y por último, las restricciones del problema, van a estar dadas por las capacidades de oferta y demanda de cada planta (en millones de KW) y cada ciudad.\n",
        "\n",
        "Para simplificar la notación use las siguientes variables:\n",
        "\n",
        "+ $x_1$: Kw (en millones) distribuidos de la Planta 1 a Guadalajara\n",
        "+ $x_2$: Kw (en millones) distribuidos de la Planta 1 a León\n",
        "+ $x_3$: Kw (en millones) distribuidos de la Planta 1 a Morelia\n",
        "+ $x_4$: Kw (en millones) distribuidos de la Planta 2 a Guadalajara\n",
        "+ $x_5$: Kw (en millones) distribuidos de la Planta 2 a León\n",
        "+ $x_6$: Kw (en millones) distribuidos de la Planta 2 a Morelia\n",
        "+ $x_7$: Kw (en millones) distribuidos de la Planta 3 a Guadalajara\n",
        "+ $x_8$: Kw (en millones) distribuidos de la Planta 3 a León\n",
        "+ $x_9$: Kw (en millones) distribuidos de la Planta 3 a Morelia\n",
        "\n",
        "La tarea consiste en plantear el problema de programación lineal que permita satisfacer las necesidades de todas las ciudades al tiempo que minimice los costos asociados a la distribución y resolverlo con `linprog`."
      ]
    },
    {
      "cell_type": "code",
      "source": [
        "import scipy.optimize as opt\n",
        "import numpy as np\n",
        "import matplotlib.pyplot as plt\n",
        "import sympy as sym"
      ],
      "metadata": {
        "id": "n6HOYKsfEyoj"
      },
      "execution_count": 1,
      "outputs": []
    },
    {
      "cell_type": "code",
      "execution_count": 15,
      "metadata": {
        "colab": {
          "base_uri": "https://localhost:8080/"
        },
        "id": "pBjjgOgmstCC",
        "outputId": "fbba9586-3c8d-47c7-d63d-9289d249ff97"
      },
      "outputs": [
        {
          "output_type": "execute_result",
          "data": {
            "text/plain": [
              "        message: Optimization terminated successfully. (HiGHS Status 7: Optimal)\n",
              "        success: True\n",
              "         status: 0\n",
              "            fun: 540.0\n",
              "              x: [ 3.000e+01  4.000e+01  1.000e+01  4.000e+01  0.000e+00\n",
              "                   0.000e+00  0.000e+00  0.000e+00  6.000e+01]\n",
              "            nit: 6\n",
              "          lower:  residual: [ 3.000e+01  4.000e+01  1.000e+01  4.000e+01\n",
              "                              0.000e+00  0.000e+00  0.000e+00  0.000e+00\n",
              "                              6.000e+01]\n",
              "                 marginals: [ 0.000e+00  0.000e+00  0.000e+00  0.000e+00\n",
              "                              6.000e+00  1.000e+00  6.000e+00  4.000e+00\n",
              "                              0.000e+00]\n",
              "          upper:  residual: [       inf        inf        inf        inf\n",
              "                                    inf        inf        inf        inf\n",
              "                                    inf]\n",
              "                 marginals: [ 0.000e+00  0.000e+00  0.000e+00  0.000e+00\n",
              "                              0.000e+00  0.000e+00  0.000e+00  0.000e+00\n",
              "                              0.000e+00]\n",
              "          eqlin:  residual: []\n",
              "                 marginals: []\n",
              "        ineqlin:  residual: [ 0.000e+00  0.000e+00  0.000e+00  0.000e+00\n",
              "                              0.000e+00  0.000e+00]\n",
              "                 marginals: [-0.000e+00 -2.000e+00 -5.000e+00 -5.000e+00\n",
              "                             -2.000e+00 -7.000e+00]\n",
              " mip_node_count: 0\n",
              " mip_dual_bound: 0.0\n",
              "        mip_gap: 0.0"
            ]
          },
          "metadata": {},
          "execution_count": 15
        }
      ],
      "source": [
        "#Función a minimizar de costos\n",
        "c=np.array([5,2,7,3,6,6,6,1,2])\n",
        "\n",
        "#Restricciones:\n",
        "#Potencia máxima:\n",
        "# x1 + x2 + x3 ≤ 80\n",
        "# x4 + x5 + x6 ≤ 40\n",
        "# x7 + x8 + x9 ≤ 60\n",
        "#Demandas:\n",
        "# x1 + x4 + x7 ≥ 70\n",
        "# x2 + x5 + x8 ≥ 40\n",
        "# x3 + x6 + x9 ≥ 70\n",
        "\n",
        "a=np.array([[1,1,1,0,0,0,0,0,0],\n",
        "            [0,0,0,1,1,1,0,0,0],\n",
        "            [0,0,0,0,0,0,1,1,1],\n",
        "            [-1,0,0,-1,0,0,-1,0,0],\n",
        "            [0,-1,0,0,-1,0,0,-1,0],\n",
        "            [0,0,-1,0,0,-1,0,0,-1]])\n",
        "b=np.array([80,40,60,-70,-40,-70])\n",
        "\n",
        "opt.linprog(c,a,b)"
      ]
    },
    {
      "cell_type": "markdown",
      "source": [
        "**Resultados:**\n",
        "\n",
        "El costo mínimo para abastecer las tres ciudades es de $\\mathrm{$} 540$. Guadalajara recibe 30 millones de $\\mathrm{KW}$ de la planta 1 y 40 millones de $\\mathrm{KW}$ de la planta 2. León recibe  40 millones de $\\mathrm{KW}$ de la planta 1. Morelia recibe 10 millones de $\\mathrm{KW}$ de la planta 1 y 60 millones de $\\mathrm{KW}$ de la planta 3. Se satisfacen las necesidades de cada ciudad y no se excede la producción máxima de cada planta"
      ],
      "metadata": {
        "id": "4R1qy0N0RWkl"
      }
    },
    {
      "cell_type": "markdown",
      "metadata": {
        "id": "Pld7TIDWstCD"
      },
      "source": [
        "### Fábrica de focos\n",
        "\n",
        "Una fábrica produce focos incandesentes y los vende a 4.5 u.m., además de focos ahorradores que vende a 6 u.m. cada uno. La producción está limitada a 400 focos incandesentes y 300 focos ahorradores al día, además de no poder producir más de 500 focos en total.\n",
        "\n",
        "Si la fábrica vende toda su producción, determina cuántos focos incandesentes y cuántos focos ahorradores debe producir para obtener los máximos ingresos posibles y cuáles serían éstos."
      ]
    },
    {
      "cell_type": "code",
      "execution_count": 2,
      "metadata": {
        "id": "fQSz_qMUstCD"
      },
      "outputs": [],
      "source": [
        "import scipy.optimize as opt\n",
        "import numpy as np\n",
        "import matplotlib.pyplot as plt\n",
        "import sympy as sym"
      ]
    },
    {
      "cell_type": "code",
      "source": [
        "#Funcióna a maximizar\n",
        "#F(i,a)= 4.5i + 6a\n",
        "\n",
        "#Restricciones\n",
        "# i ≤ 400\n",
        "# a ≤ 300\n",
        "# i + a ≤ 500\n",
        "\n",
        "c=np.array([-4.5,-6])\n",
        "a=np.array([[1,0],\n",
        "            [0,1],\n",
        "            [1,1]])\n",
        "b=np.array([400,300,500])\n",
        "\n",
        "opt.linprog(c,a,b)"
      ],
      "metadata": {
        "colab": {
          "base_uri": "https://localhost:8080/"
        },
        "id": "Pl3E8IJjzcrs",
        "outputId": "8d5f6649-4b41-45c4-8b57-9a6273b6fdb0"
      },
      "execution_count": 4,
      "outputs": [
        {
          "output_type": "execute_result",
          "data": {
            "text/plain": [
              "        message: Optimization terminated successfully. (HiGHS Status 7: Optimal)\n",
              "        success: True\n",
              "         status: 0\n",
              "            fun: -2700.0\n",
              "              x: [ 2.000e+02  3.000e+02]\n",
              "            nit: 1\n",
              "          lower:  residual: [ 2.000e+02  3.000e+02]\n",
              "                 marginals: [ 0.000e+00  0.000e+00]\n",
              "          upper:  residual: [       inf        inf]\n",
              "                 marginals: [ 0.000e+00  0.000e+00]\n",
              "          eqlin:  residual: []\n",
              "                 marginals: []\n",
              "        ineqlin:  residual: [ 2.000e+02  0.000e+00  0.000e+00]\n",
              "                 marginals: [-0.000e+00 -1.500e+00 -4.500e+00]\n",
              " mip_node_count: 0\n",
              " mip_dual_bound: 0.0\n",
              "        mip_gap: 0.0"
            ]
          },
          "metadata": {},
          "execution_count": 4
        }
      ]
    },
    {
      "cell_type": "markdown",
      "source": [
        "**Resultados:**\n",
        "\n",
        "Produciendo y vendiendo 200 focos incandesentes y 300 focos ahorradores, la ganancia máxima sería de $2,700\\;\\mathrm{u.m.}$. Se observa que se generan 200 focos incandesentes menos que lo máximo."
      ],
      "metadata": {
        "id": "B9RfFWAl1yKf"
      }
    },
    {
      "cell_type": "markdown",
      "metadata": {
        "id": "VicYFmNjstCD"
      },
      "source": [
        "### Problema de compra al mayoreo\n",
        "Un frutero necesita 16 cajas de naranjas, 5 de plátanos y 20 de manzanas. Dos mayoristas pueden suministrarle para satisfacer sus necesidades, pero sólo venden la fruta en contenedores completos. El mayorista A envía en cada contenedor 8 cajas de naranjas, 1 de plátanos y 2 de manzanas. El mayorista B envía en cada contenedor 2 cajas de naranjas, una de plátanos y 7 de manzanas. Sabiendo que cada contenedor del mayorista A tiene un costo de 150 u.m. y el contenedor del mayorista B de 300 u.m., calcular cuántos contenedores habrá de comprar a cada mayorista, con objeto de reducir al mínimo el costo de lo solicitado."
      ]
    },
    {
      "cell_type": "code",
      "execution_count": 7,
      "metadata": {
        "colab": {
          "base_uri": "https://localhost:8080/"
        },
        "id": "H6O1RhzrstCE",
        "outputId": "13a17c36-76de-4500-acb2-f29238c06dbe"
      },
      "outputs": [
        {
          "output_type": "execute_result",
          "data": {
            "text/plain": [
              "        message: Optimization terminated successfully. (HiGHS Status 7: Optimal)\n",
              "        success: True\n",
              "         status: 0\n",
              "            fun: 1050.0\n",
              "              x: [ 3.000e+00  2.000e+00]\n",
              "            nit: 3\n",
              "          lower:  residual: [ 3.000e+00  2.000e+00]\n",
              "                 marginals: [ 0.000e+00  0.000e+00]\n",
              "          upper:  residual: [       inf        inf]\n",
              "                 marginals: [ 0.000e+00  0.000e+00]\n",
              "          eqlin:  residual: []\n",
              "                 marginals: []\n",
              "        ineqlin:  residual: [ 1.200e+01  0.000e+00  0.000e+00]\n",
              "                 marginals: [-0.000e+00 -9.000e+01 -3.000e+01]\n",
              " mip_node_count: 0\n",
              " mip_dual_bound: 0.0\n",
              "        mip_gap: 0.0"
            ]
          },
          "metadata": {},
          "execution_count": 7
        }
      ],
      "source": [
        "#Función a minimizar\n",
        "#f(a,b) = 150a + 300b\n",
        "\n",
        "#Restricciones\n",
        "#Naranjas - 8a + 2b ≥ 16\n",
        "#Plátanos - a + b ≥ 5\n",
        "#Manzanas - 2a + 7b ≥ 20\n",
        "c=np.array([150,300])\n",
        "a=np.array([[-8,-2],\n",
        "            [-1,-1],\n",
        "            [-2,-7]])\n",
        "b=np.array([-16,-5,-20])\n",
        "\n",
        "opt.linprog(c,a,b)"
      ]
    },
    {
      "cell_type": "markdown",
      "source": [
        "**Resultado:**\n",
        "\n",
        "El frutero necesita sólo 3 contenedores A y 2 contenedores B, con un valor de $1050\\;\\mathrm{u.m.}$. Así paga lo mínimo, pero se pasa 12 naranjas del límite inferior con 28 naranjas."
      ],
      "metadata": {
        "id": "rZPYkqaN5LU-"
      }
    }
  ],
  "metadata": {
    "kernelspec": {
      "display_name": "Python 3",
      "name": "python3"
    },
    "language_info": {
      "codemirror_mode": {
        "name": "ipython",
        "version": 3
      },
      "file_extension": ".py",
      "mimetype": "text/x-python",
      "name": "python",
      "nbconvert_exporter": "python",
      "pygments_lexer": "ipython3",
      "version": "3.9.12"
    },
    "colab": {
      "provenance": [],
      "include_colab_link": true
    }
  },
  "nbformat": 4,
  "nbformat_minor": 0
}