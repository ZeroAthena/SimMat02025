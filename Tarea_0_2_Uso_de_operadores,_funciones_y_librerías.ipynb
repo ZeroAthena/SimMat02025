{
  "nbformat": 4,
  "nbformat_minor": 0,
  "metadata": {
    "colab": {
      "provenance": [],
      "authorship_tag": "ABX9TyP+RvXbwSzaG7l9p6LhMoAU"
    },
    "kernelspec": {
      "name": "python3",
      "display_name": "Python 3"
    },
    "language_info": {
      "name": "python"
    }
  },
  "cells": [
    {
      "cell_type": "markdown",
      "source": [
        "Función que regresa números primeros hecha por mí"
      ],
      "metadata": {
        "id": "ROpKD3pnO-Pa"
      }
    },
    {
      "cell_type": "code",
      "execution_count": 1,
      "metadata": {
        "id": "KXYb3VG_Oxli"
      },
      "outputs": [],
      "source": [
        "def num_primos(n):\n",
        "    primos=[]\n",
        "    for i in range(2,n+1):\n",
        "        for j in range(2,i):\n",
        "            if i%j==0:\n",
        "                break\n",
        "        else:\n",
        "            primos.append(i)\n",
        "    return primos"
      ]
    },
    {
      "cell_type": "code",
      "source": [
        "num_primos(10)"
      ],
      "metadata": {
        "colab": {
          "base_uri": "https://localhost:8080/"
        },
        "id": "YGpRHTQWTD_L",
        "outputId": "e9ecf60c-b0e1-40c7-9c7c-26afefed6b5c"
      },
      "execution_count": 8,
      "outputs": [
        {
          "output_type": "execute_result",
          "data": {
            "text/plain": [
              "[2, 3, 5, 7]"
            ]
          },
          "metadata": {},
          "execution_count": 8
        }
      ]
    },
    {
      "cell_type": "markdown",
      "source": [
        "Función optimizada por ChatGPT"
      ],
      "metadata": {
        "id": "eZOlR8lXT8Vr"
      }
    },
    {
      "cell_type": "code",
      "source": [
        "def num_primos(n):\n",
        "    es_primo = [True] * (n + 1)\n",
        "    es_primo[0] = es_primo[1] = False\n",
        "    for i in range(2, int(n**0.5) + 1):\n",
        "        if es_primo[i]:\n",
        "            for j in range(i*i, n+1, i):\n",
        "                es_primo[j] = False\n",
        "    return [i for i, primo in enumerate(es_primo) if primo]"
      ],
      "metadata": {
        "id": "qo3ZSD7iUC8i"
      },
      "execution_count": 3,
      "outputs": []
    },
    {
      "cell_type": "code",
      "source": [
        "num_primos(10)"
      ],
      "metadata": {
        "colab": {
          "base_uri": "https://localhost:8080/"
        },
        "id": "bKQCyutVUbph",
        "outputId": "0d670a9b-74d5-4f27-c6ad-2fcd3224c6df"
      },
      "execution_count": 7,
      "outputs": [
        {
          "output_type": "execute_result",
          "data": {
            "text/plain": [
              "[2, 3, 5, 7]"
            ]
          },
          "metadata": {},
          "execution_count": 7
        }
      ]
    },
    {
      "cell_type": "markdown",
      "source": [
        "Comparando amabas versiones, me quedaría con el código de ChatGPT. Mi versión de la función se basa en dividir cada número por todos los números que llegan hasta donde haya indicado. Esto lo hace un proceso lento y poco eficiente. La versión de ChatGPT utiliza el modelo Criba de Eratóstenes, donde asigna a los números como TRUE y limita su revisión mediante la cancelación de múltiplos y delimitando el rango a revisar. Este proceso lo vuelve eficiente ya que se marca qué números dejan de ser primos conforme se revisa cada número. Por ejemplo, si se revisa el 2 y se mantiene como TRUE sus múltiplos se marcan como FALSE y ya no se tienen que revisar. Este método vuelve a la función rápida y efectiva."
      ],
      "metadata": {
        "id": "4jY6FKPCXOIH"
      }
    }
  ]
}