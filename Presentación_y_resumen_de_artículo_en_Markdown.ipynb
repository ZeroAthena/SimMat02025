{
  "nbformat": 4,
  "nbformat_minor": 0,
  "metadata": {
    "colab": {
      "provenance": [],
      "authorship_tag": "ABX9TyPmCGOUihkz3bV7JrrPZjJq"
    },
    "kernelspec": {
      "name": "python3",
      "display_name": "Python 3"
    },
    "language_info": {
      "name": "python"
    }
  },
  "cells": [
    {
      "cell_type": "markdown",
      "source": [
        "# Perfil personal\n",
        "\n",
        "## Información básica\n",
        "\n",
        "Nombre: Franco Ortiz\n",
        "\n",
        "Edad: 21 años\n",
        "\n",
        "Carrera: Ingeniería en nanotecnología\n",
        "\n",
        "### Música:\n",
        "- Electrónica: Daft Punk, Calvin Harris, Galantis\n",
        "- Indie/Rock: Nine Inch Nails, The Marías, Meg Myers\n",
        "- K-pop: Huntr/x, Black Pink, Saja Boys\n",
        "\n",
        "### Películas:\n",
        "- Beyond the Spiderverse\n",
        "- F1\n",
        "- Cómo entrenar a tu dragón\n",
        "\n",
        "En mis tiempo libre me dedico a ser DJ y tatuador. Estoy en proceso de abrir mi propio estudio privado donde tatuaré y grabaré mis sets. Me gusta ver la F1, jugar videojuegos y conocer nuevos lugares.\n",
        "\n",
        "---\n",
        "\n",
        "# Artículo: Metabolic Shifts in Immunity and Inflammation\n",
        "\n",
        "Los sitios de inflamación activa y las respuestas inmunológicas son caracterizadas por cambios significantes en la actividad metabólica. Estos cambios en el metabolismo del tejido son el resultado de una combinación de acumulación de neutrófilos, monocitos y linfocitos. La alta demanda y provición de energía puede resultar en una acidosis metabólica y un decremento en la distribución o disponibilidad de oxígeno, lo cual puede llevar a una hipoxia extensa; que podría activar cambios de transcripción y traducción en el fenotipo del tejido (Douglas J. Kominsky; ... et. al).\n",
        "\n"
      ],
      "metadata": {
        "id": "DPjZ5BOj5uVs"
      }
    }
  ]
}