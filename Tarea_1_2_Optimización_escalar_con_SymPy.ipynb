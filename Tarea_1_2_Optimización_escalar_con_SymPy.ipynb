{
  "nbformat": 4,
  "nbformat_minor": 0,
  "metadata": {
    "colab": {
      "provenance": [],
      "include_colab_link": true
    },
    "kernelspec": {
      "name": "python3",
      "display_name": "Python 3"
    },
    "language_info": {
      "name": "python"
    }
  },
  "cells": [
    {
      "cell_type": "markdown",
      "metadata": {
        "id": "view-in-github",
        "colab_type": "text"
      },
      "source": [
        "<a href=\"https://colab.research.google.com/github/ZeroAthena/SimMat02025/blob/main/Tarea_1_2_Optimizaci%C3%B3n_escalar_con_SymPy.ipynb\" target=\"_parent\"><img src=\"https://colab.research.google.com/assets/colab-badge.svg\" alt=\"Open In Colab\"/></a>"
      ]
    },
    {
      "cell_type": "markdown",
      "source": [
        "# Problemas de optimización escalar\n",
        "Resuelva los siguientes problemas usando la librería `SymPy`. Use celdas en `Markdown` para explicar su procedimiento, así como los resultados obtenidos."
      ],
      "metadata": {
        "id": "wQWrkxnk8xAz"
      }
    },
    {
      "cell_type": "markdown",
      "source": [
        "1. El perímetro de un triángulo isósceles es de $10 cm$. ¿Cuánto deben medir sus lados para que el volumen del cuerpo generado por la rotación del triángulo en torno a su base sea el mayor posible? (Volumen de un cono $= \\frac{1}{3}\\pi r^2 h$, donde $r$ es el radio de la base y $h$ la altura del cono)."
      ],
      "metadata": {
        "id": "7c9ab28c82ao"
      }
    },
    {
      "cell_type": "markdown",
      "source": [
        "Sea $B$ la longitud de la base y $S$ la de cada lado, entonces $b+2s=10$, por lo que $s=\\frac{10-b}{2}$. Por teorema de pitágoras, $h=\\sqrt{(\\frac{10-b}{2})^2-(\\frac{b}{2})^2}=\\sqrt{25-5b}$. Cuando el cono gira, se genera un radio (R) donde $r=\\frac{b}{2}$, por lo que $V=\\frac{1}{3}π(\\frac{b}{2})^2\\sqrt{25-5b}$. La condición de este problema es que $0<b≤5$.\n",
        "\n",
        "Derivamos y resolvemos para obtener la longitud $(B)$. Con ese valor obtenemos $(S)$ y el volumen máximo."
      ],
      "metadata": {
        "id": "qjLq0X9r88bz"
      }
    },
    {
      "cell_type": "code",
      "source": [
        "#Importamos librerias\n",
        "import sympy as sym\n",
        "\n",
        "#Definimos variables\n",
        "b=sym.Symbol('b', positive=True)\n",
        "\n",
        "#Definimos función para volumen\n",
        "def V(b):\n",
        "  return (1/3)*sym.pi*(b/2)**2*sym.sqrt(25-5*b)\n",
        "#Derivamos\n",
        "dV=V(b).diff()\n",
        "\n",
        "#Resolvemos\n",
        "C=sym.solve(dV,b)\n",
        "C\n",
        "\n",
        "#Sabiendo que C es la base final, reemplazamos en S=(10-b)/2\n",
        "s=(10-C[0])/2\n",
        "s\n",
        "\n",
        "#Sacamos volumen con los datos de C\n",
        "V(C[0])"
      ],
      "metadata": {
        "colab": {
          "base_uri": "https://localhost:8080/",
          "height": 39
        },
        "id": "_pdDC2m235x_",
        "outputId": "bbc60e2b-231c-48e5-c081-c3e0eb582a41"
      },
      "execution_count": 6,
      "outputs": [
        {
          "output_type": "execute_result",
          "data": {
            "text/plain": [
              "2.98142396999972*pi"
            ],
            "text/latex": "$\\displaystyle 2.98142396999972 \\pi$"
          },
          "metadata": {},
          "execution_count": 6
        }
      ]
    },
    {
      "cell_type": "markdown",
      "source": [
        "**Resultados finales:**\n",
        "\n",
        "S = $3cm$\n",
        "\n",
        "B = $4cm$\n",
        "\n",
        "V = $9.37cm^2$"
      ],
      "metadata": {
        "id": "_RZGKeXI6h4C"
      }
    },
    {
      "cell_type": "markdown",
      "source": [
        "2. Disponemos de una barra de aluminio de 6 metros para construir una portería de fútbol. Si queremos que el área de la portería sea máxima, ¿cuánto deben medir los postes y el travesaño?"
      ],
      "metadata": {
        "id": "1kvio5Eq8_J4"
      }
    },
    {
      "cell_type": "markdown",
      "source": [
        "Definimos $Y$ como la altura y $X$ como la longitud. Sabiendo que el perímetro se expresa como $2x+y=6$, por lo que podemos expresar el área $A=x*y$ con una sola variable. $y=6-2x$ --> $A(x)=6x-2x^2$\n",
        "\n",
        "Derivamos y resolvemos para obtener la longitud máxima. Con ese valor sacamos la altura y área máxima."
      ],
      "metadata": {
        "id": "2MMoZnCa7rnO"
      }
    },
    {
      "cell_type": "code",
      "source": [
        "#Importamos librerías\n",
        "import sympy as sym\n",
        "\n",
        "#Definimos variables\n",
        "x=sym.Symbol('x', positive=True)\n",
        "\n",
        "#Definimos\n",
        "def A(x):\n",
        "  return 6*x-2*x**2\n",
        "\n",
        "#Derivamos\n",
        "dA=A(x).diff()\n",
        "\n",
        "#Resolvemos\n",
        "c=sym.solve(dA,x)\n",
        "\n",
        "#Sabiendo que c es la longitud obtenemos la altura de los postes\n",
        "y=6-2*c[0]\n",
        "y\n",
        "\n",
        "#Obtenemos área máxima con los valores\n",
        "A(c[0])"
      ],
      "metadata": {
        "id": "crqDqG8z9EjH",
        "colab": {
          "base_uri": "https://localhost:8080/",
          "height": 51
        },
        "outputId": "e645733a-a451-40bb-e2fd-10d71ef7440c"
      },
      "execution_count": 9,
      "outputs": [
        {
          "output_type": "execute_result",
          "data": {
            "text/plain": [
              "9/2"
            ],
            "text/latex": "$\\displaystyle \\frac{9}{2}$"
          },
          "metadata": {},
          "execution_count": 9
        }
      ]
    },
    {
      "cell_type": "markdown",
      "source": [
        "**Resultados finales:**\n",
        "\n",
        "x = $1.5m$\n",
        "\n",
        "y = $3m$\n",
        "\n",
        "A = $4.5m^2$"
      ],
      "metadata": {
        "id": "gPOWM37G-VBN"
      }
    }
  ]
}